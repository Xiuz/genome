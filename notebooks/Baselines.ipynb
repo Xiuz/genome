{
 "cells": [
  {
   "cell_type": "markdown",
   "metadata": {},
   "source": [
    "## Filter out TensorFlow's many warnings"
   ]
  },
  {
   "cell_type": "code",
   "execution_count": 3,
   "metadata": {
    "scrolled": true
   },
   "outputs": [],
   "source": [
    "import warnings\n",
    "warnings.filterwarnings(\"ignore\", category=FutureWarning)\n",
    "\n",
    "import os\n",
    "os.environ['TF_CPP_MIN_LOG_LEVEL'] = '2'\n",
    "\n",
    "import tensorflow as tf\n",
    "tf.get_logger().setLevel('ERROR')\n",
    "tf.autograph.set_verbosity(0)"
   ]
  },
  {
   "cell_type": "markdown",
   "metadata": {},
   "source": [
    "## Setup"
   ]
  },
  {
   "cell_type": "code",
   "execution_count": 4,
   "metadata": {},
   "outputs": [],
   "source": [
    "import os\n",
    "import numpy as np\n",
    "import gym \n",
    "import stable_baselines"
   ]
  },
  {
   "cell_type": "code",
   "execution_count": 5,
   "metadata": {
    "scrolled": true
   },
   "outputs": [
    {
     "name": "stdout",
     "output_type": "stream",
     "text": [
      "[0] Training...\n",
      "[0] Final evaluation: (113.93, 3.9147285985110125)\n",
      "[1] Training...\n",
      "[1] Final evaluation: (144.04, 6.694654584069292)\n",
      "[2] Training...\n",
      "[2] Final evaluation: (96.55, 9.703994023081425)\n",
      "[3] Training...\n",
      "[3] Final evaluation: (118.05, 6.14389941323912)\n",
      "[4] Training...\n",
      "[4] Final evaluation: (157.61, 9.21834583859816)\n"
     ]
    }
   ],
   "source": [
    "RENDER = False\n",
    "N_EXPERIMENTS = 5\n",
    "ENV_NAME = \"CartPole-v1\"\n",
    "RUN_NAME = \"baseline_dqn\"\n",
    "TENSORBOARD_DIR = f\"../outputs/{ENV_NAME}/{RUN_NAME}\"\n",
    "\n",
    "with gym.make(ENV_NAME) as env:\n",
    "    for run in range(N_EXPERIMENTS):\n",
    "        print(f\"[{run}] Training...\")\n",
    "        model = stable_baselines.DQN(\"MlpPolicy\", env, verbose=0, tensorboard_log=TENSORBOARD_DIR)\n",
    "        log_name = f\"run_{run}\"\n",
    "        if RENDER:\n",
    "            render_callback = stable_baselines.common.callbacks.EvalCallback(\n",
    "                env, n_eval_episodes=1, eval_freq=1000, render=True, verbose=0\n",
    "            )\n",
    "            model.learn(\n",
    "                total_timesteps=10000, tb_log_name=log_name, callback=render_callback\n",
    "            )\n",
    "        else:\n",
    "            model.learn(total_timesteps=10000, tb_log_name=log_name)\n",
    "\n",
    "        eval_final = stable_baselines.common.evaluation.evaluate_policy(\n",
    "            model, env, n_eval_episodes=100,\n",
    "        )\n",
    "        print(f\"[{run}] Final evaluation: {eval_final}\")\n",
    "\n",
    "        if RENDER:\n",
    "            stable_baselines.common.evaluation.evaluate_policy(\n",
    "                model, env, n_eval_episodes=1, render=True\n",
    "            )"
   ]
  },
  {
   "cell_type": "code",
   "execution_count": null,
   "metadata": {},
   "outputs": [],
   "source": []
  }
 ],
 "metadata": {
  "kernelspec": {
   "display_name": "genome",
   "language": "python",
   "name": "genome"
  },
  "language_info": {
   "codemirror_mode": {
    "name": "ipython",
    "version": 3
   },
   "file_extension": ".py",
   "mimetype": "text/x-python",
   "name": "python",
   "nbconvert_exporter": "python",
   "pygments_lexer": "ipython3",
   "version": "3.7.7"
  },
  "varInspector": {
   "cols": {
    "lenName": 16,
    "lenType": 16,
    "lenVar": 40
   },
   "kernels_config": {
    "python": {
     "delete_cmd_postfix": "",
     "delete_cmd_prefix": "del ",
     "library": "var_list.py",
     "varRefreshCmd": "print(var_dic_list())"
    },
    "r": {
     "delete_cmd_postfix": ") ",
     "delete_cmd_prefix": "rm(",
     "library": "var_list.r",
     "varRefreshCmd": "cat(var_dic_list()) "
    }
   },
   "types_to_exclude": [
    "module",
    "function",
    "builtin_function_or_method",
    "instance",
    "_Feature"
   ],
   "window_display": false
  }
 },
 "nbformat": 4,
 "nbformat_minor": 4
}
